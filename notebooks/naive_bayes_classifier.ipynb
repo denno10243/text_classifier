{
 "cells": [
  {
   "cell_type": "code",
   "execution_count": null,
   "metadata": {
    "scrolled": true
   },
   "outputs": [],
   "source": [
    "%load_ext autoreload\n",
    "%autoreload 2\n",
    "\n",
    "import copy\n",
    "    \n",
    "import numpy as np\n",
    "import pandas as pd\n",
    "# set display options\n",
    "pd.options.display.max_rows = 150\n",
    "pd.options.display.max_columns = 150\n",
    "\n",
    "# plotting\n",
    "import matplotlib.pyplot as plt\n",
    "import seaborn as sns\n",
    "\n",
    "# processing scripts\n",
    "from src.processing import data_pipeline\n",
    "\n",
    "# training and inference code\n",
    "from src.algorithms.bayes.inference import inference_naive_bayes\n",
    "from src.algorithms.bayes.training import train_naive_bayes"
   ]
  },
  {
   "cell_type": "markdown",
   "metadata": {},
   "source": [
    "## Pipeline"
   ]
  },
  {
   "cell_type": "markdown",
   "metadata": {},
   "source": [
    "Read in data, process"
   ]
  },
  {
   "cell_type": "code",
   "execution_count": null,
   "metadata": {
    "scrolled": true
   },
   "outputs": [],
   "source": [
    "# path where text is stored\n",
    "path = '/path/to/data'\n",
    "\n",
    "# set doctors to use\n",
    "doctors_list = [1, 4]\n",
    "# set a minimum length (in tokens): only use lines that have >= min_line_len words\n",
    "min_line_len = 10\n",
    "\n",
    "doctors_episodes = data_pipeline.get_all_episode_filenames(path)\n",
    "corpus_doctors = data_pipeline.read_corpus(doctors_episodes)\n",
    "df_lines_all = data_pipeline.make_line_dataframe(corpus_doctors)\n",
    "df_doc = data_pipeline.get_doctor_lines(df_lines_all,\n",
    "                                        min_line_len=min_line_len,\n",
    "                                        doctors_list=doctors_list)\n",
    "\n",
    "# number of stories for each doctor\n",
    "for k, v in doctors_episodes.items():\n",
    "    print(k.ljust(50), len(v))\n",
    "    \n",
    "\n",
    "print(\"\\n\", df_doc.shape)\n",
    "\n",
    "display(df_doc.sample(n=20))\n"
   ]
  },
  {
   "cell_type": "code",
   "execution_count": null,
   "metadata": {},
   "outputs": [],
   "source": [
    "df_doc.head()"
   ]
  },
  {
   "cell_type": "markdown",
   "metadata": {},
   "source": [
    "### Training\n"
   ]
  },
  {
   "cell_type": "code",
   "execution_count": null,
   "metadata": {},
   "outputs": [],
   "source": [
    "# split into train and test sets\n",
    "labels = list(df_doc.sample(frac=1.0).index)\n",
    "n_train = int(0.7 * len(labels))\n",
    "df_train = df_doc.copy(deep=True)[df_doc.index.isin(labels[:n_train])]\n",
    "df_test = df_doc.copy(deep=True)[df_doc.index.isin(labels[n_train:])]\n",
    "print(len(df_train), len(df_test))"
   ]
  },
  {
   "cell_type": "code",
   "execution_count": null,
   "metadata": {
    "scrolled": true
   },
   "outputs": [],
   "source": [
    "n_splits = 10\n",
    "n_iter = 10\n",
    "alpha = 0.3\n",
    "upsample = True\n",
    "use_stop_words = False\n",
    "use_lemmatizer = True\n",
    "use_stemmer = False\n",
    "use_singularizer = False\n",
    "tf_idf = False\n",
    "\n",
    "df_train, fitted_models = train_naive_bayes(\n",
    "    df_train,\n",
    "    sample_col=\"Line\",\n",
    "    class_col=\"Doctor\",\n",
    "    alpha=alpha,\n",
    "    n_splits=n_splits,\n",
    "    n_iter=n_iter,\n",
    "    upsample=upsample,\n",
    "    use_stop_words=use_stop_words,\n",
    "    use_lemmatizer=use_lemmatizer,\n",
    "    use_stemmer=use_stemmer,\n",
    "    use_singularizer=use_singularizer,\n",
    "    tf_idf=tf_idf,\n",
    ")\n",
    "\n",
    "print(\"\")\n",
    "preds = [f\"{actual} - {pred}:   {line}\" for\n",
    "         actual, pred, line in df_train.loc[df_train[\"preds_NB_final\"]\n",
    "                                            != df_train[\"Doctor\"], :   ]\n",
    "         .sample(n=20)[[\"Doctor\", \"preds_NB_final\", \"Line\"]].values]\n",
    "print(\"\\n\\n\".join(preds))"
   ]
  },
  {
   "cell_type": "code",
   "execution_count": null,
   "metadata": {},
   "outputs": [],
   "source": [
    "inference_naive_bayes(df_test.copy(deep=True), fitted_models, \"Line\", \"Doctor\")"
   ]
  },
  {
   "cell_type": "code",
   "execution_count": null,
   "metadata": {},
   "outputs": [],
   "source": []
  }
 ],
 "metadata": {
  "kernelspec": {
   "display_name": "Python 3",
   "language": "python",
   "name": "python3"
  },
  "language_info": {
   "codemirror_mode": {
    "name": "ipython",
    "version": 3
   },
   "file_extension": ".py",
   "mimetype": "text/x-python",
   "name": "python",
   "nbconvert_exporter": "python",
   "pygments_lexer": "ipython3",
   "version": "3.7.0"
  }
 },
 "nbformat": 4,
 "nbformat_minor": 4
}
